{
 "cells": [
  {
   "cell_type": "code",
   "execution_count": 2,
   "metadata": {},
   "outputs": [],
   "source": []
  },
  {
   "cell_type": "code",
   "execution_count": 10,
   "metadata": {},
   "outputs": [],
   "source": [
    "class Financial_Analysis:\n",
    "    \n",
    "    def __init__(self, path):\n",
    "        import pandas as pd\n",
    "        self.path = path\n",
    "        self._upload_data()\n",
    "    \n",
    "    def _upload_data(self):\n",
    "        self.df = pd.read_csv(self.path)\n",
    "        print(self.df)\n",
    "    \n",
    "    def set_number_months(self):\n",
    "        self.number_months = len(self.df)\n",
    "    \n",
    "    def set_net_PL(self):\n",
    "        self.net_pl = np.sum(self.df['Profit/Losses'])\n",
    "    \n",
    "    def average_change(self):\n",
    "        pass\n",
    "    \n",
    "    def max_profit(self):\n",
    "        pass\n",
    "    \n",
    "    def max_loss(self):\n",
    "        pass\n",
    "    \n",
    "    def print_analysis(self, to_txt=True):\n",
    "        pass"
   ]
  },
  {
   "cell_type": "code",
   "execution_count": 11,
   "metadata": {},
   "outputs": [
    {
     "name": "stdout",
     "output_type": "stream",
     "text": [
      "        Date  Profit/Losses\n",
      "0   Jan-2010         867884\n",
      "1   Feb-2010         984655\n",
      "2   Mar-2010         322013\n",
      "3   Apr-2010         -69417\n",
      "4   May-2010         310503\n",
      "..       ...            ...\n",
      "81  Oct-2016         102685\n",
      "82  Nov-2016         795914\n",
      "83  Dec-2016          60988\n",
      "84  Jan-2017         138230\n",
      "85  Feb-2017         671099\n",
      "\n",
      "[86 rows x 2 columns]\n"
     ]
    },
    {
     "ename": "TypeError",
     "evalue": "print_analysis() got an unexpected keyword argument 'to_txt'",
     "output_type": "error",
     "traceback": [
      "\u001b[1;31m---------------------------------------------------------------------------\u001b[0m",
      "\u001b[1;31mTypeError\u001b[0m                                 Traceback (most recent call last)",
      "\u001b[1;32m<ipython-input-11-f629b79e8db8>\u001b[0m in \u001b[0;36m<module>\u001b[1;34m\u001b[0m\n\u001b[0;32m      1\u001b[0m \u001b[0mfin\u001b[0m \u001b[1;33m=\u001b[0m \u001b[0mFinancial_Analysis\u001b[0m\u001b[1;33m(\u001b[0m\u001b[1;34m'budget_data.csv'\u001b[0m\u001b[1;33m)\u001b[0m\u001b[1;33m\u001b[0m\u001b[1;33m\u001b[0m\u001b[0m\n\u001b[1;32m----> 2\u001b[1;33m \u001b[0mfin\u001b[0m\u001b[1;33m.\u001b[0m\u001b[0mprint_analysis\u001b[0m\u001b[1;33m(\u001b[0m\u001b[0mto_txt\u001b[0m\u001b[1;33m=\u001b[0m\u001b[1;32mFalse\u001b[0m\u001b[1;33m)\u001b[0m\u001b[1;33m\u001b[0m\u001b[1;33m\u001b[0m\u001b[0m\n\u001b[0m",
      "\u001b[1;31mTypeError\u001b[0m: print_analysis() got an unexpected keyword argument 'to_txt'"
     ]
    }
   ],
   "source": [
    "fin = Financial_Analysis('budget_data.csv')\n",
    "fin.print_analysis(to_txt=False)"
   ]
  },
  {
   "cell_type": "code",
   "execution_count": null,
   "metadata": {},
   "outputs": [],
   "source": []
  }
 ],
 "metadata": {
  "kernelspec": {
   "display_name": "Python 3",
   "language": "python",
   "name": "python3"
  },
  "language_info": {
   "codemirror_mode": {
    "name": "ipython",
    "version": 3
   },
   "file_extension": ".py",
   "mimetype": "text/x-python",
   "name": "python",
   "nbconvert_exporter": "python",
   "pygments_lexer": "ipython3",
   "version": "3.9.0"
  }
 },
 "nbformat": 4,
 "nbformat_minor": 4
}
