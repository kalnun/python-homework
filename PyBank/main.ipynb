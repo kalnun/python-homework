{
 "cells": [
  {
   "cell_type": "code",
   "execution_count": 22,
   "metadata": {},
   "outputs": [],
   "source": [
    "import pandas as pd\n",
    "import numpy as np"
   ]
  },
  {
   "cell_type": "code",
   "execution_count": 48,
   "metadata": {},
   "outputs": [],
   "source": [
    "class Financial_Analysis:\n",
    "    \n",
    "    def __init__(self, path):\n",
    "        self.path = path\n",
    "        self._upload_data()\n",
    "        self._collect_data()\n",
    "    \n",
    "    def _collect_data(self):\n",
    "        self._number_months(); self._net_PL(); self._average_change();\n",
    "        self._max_profit(); self._max_loss();\n",
    "    \n",
    "    def _upload_data(self):\n",
    "        self.df = pd.read_csv(self.path)\n",
    "    \n",
    "    def _number_months(self):\n",
    "        self.number_months = len(self.df)\n",
    "    \n",
    "    def _net_PL(self):\n",
    "        self.net_pl = np.sum(self.df['Profit/Losses'])\n",
    "    \n",
    "    def _average_change(self):\n",
    "        self.average_change = self.df['Profit/Losses'].std(ddof=0)\n",
    "    \n",
    "    def _max_profit(self):\n",
    "        pointer = self.df['Profit/Losses'].idxmax()\n",
    "        self.max_profit = self.df['Profit/Losses'].iloc[pointer]\n",
    "        self.max_profit_date = self.df['Date'].iloc[pointer]\n",
    "    \n",
    "    def _max_loss(self):\n",
    "        pointer = self.df['Profit/Losses'].idxmin()\n",
    "        self.max_loss = self.df['Profit/Losses'].iloc[pointer]\n",
    "        self.max_loss_date = self.df['Date'].iloc[pointer]\n",
    "    \n",
    "    def print_analysis(self, to_txt=True):\n",
    "        title = 'Financial Analysis\\n----------------------------\\n'\n",
    "        total_months = f'Total Months: {self.number_months}\\n'\n",
    "        net_pl = f'Total: ${int(self.net_pl)}\\n'\n",
    "        avg_change = f'Average Change: ${self.average_change:.2f}\\n'\n",
    "        max_inc = f'Greatest Increase in Profits: {self.max_profit_date} (${int(self.max_profit)})\\n'\n",
    "        max_dec = f'Greatest Decrease in Profits: {self.max_loss_date} (${int(self.max_loss)})\\n'\n",
    "        results = title + total_months + net_pl + avg_change + max_inc + max_dec\n",
    "        print(results)\n",
    "        if to_txt:\n",
    "            f = open(r'results.txt', 'wt')\n",
    "            n = f.write(results)\n",
    "            f.close()\n",
    "            print(n)"
   ]
  },
  {
   "cell_type": "code",
   "execution_count": 49,
   "metadata": {},
   "outputs": [
    {
     "name": "stdout",
     "output_type": "stream",
     "text": [
      "Financial Analysis\n",
      "----------------------------\n",
      "Total Months: 86\n",
      "Total: $38382578\n",
      "Average Change: $533230.47\n",
      "Greatest Increase in Profits: Feb-2012 ($1170593)\n",
      "Greatest Decrease in Profits: Sep-2013 ($-1196225)\n",
      "\n",
      "210\n"
     ]
    }
   ],
   "source": [
    "fin = Financial_Analysis('budget_data.csv')\n",
    "fin.print_analysis(to_txt=True)"
   ]
  },
  {
   "cell_type": "code",
   "execution_count": null,
   "metadata": {},
   "outputs": [],
   "source": []
  }
 ],
 "metadata": {
  "kernelspec": {
   "display_name": "Python 3",
   "language": "python",
   "name": "python3"
  },
  "language_info": {
   "codemirror_mode": {
    "name": "ipython",
    "version": 3
   },
   "file_extension": ".py",
   "mimetype": "text/x-python",
   "name": "python",
   "nbconvert_exporter": "python",
   "pygments_lexer": "ipython3",
   "version": "3.9.0"
  }
 },
 "nbformat": 4,
 "nbformat_minor": 4
}
