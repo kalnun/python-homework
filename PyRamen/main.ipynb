{
 "cells": [
  {
   "cell_type": "code",
   "execution_count": 1,
   "metadata": {},
   "outputs": [],
   "source": [
    "import csv\n",
    "import numpy as np\n",
    "import decimal"
   ]
  },
  {
   "cell_type": "code",
   "execution_count": 2,
   "metadata": {},
   "outputs": [],
   "source": [
    "def upload_data(path):\n",
    "    data = []\n",
    "    with open(path) as f:\n",
    "        reader = csv.reader(f)\n",
    "        next(reader, None)\n",
    "        for row in reader:\n",
    "            data.append(row)\n",
    "    return data"
   ]
  },
  {
   "cell_type": "code",
   "execution_count": 3,
   "metadata": {},
   "outputs": [],
   "source": [
    "# item, category, description, price, cost\n",
    "menu = upload_data('menu_data.csv')\n",
    "# Line_Item_ID, Date, Credit_Card_Number, Quantity, Menu_Item\n",
    "sales = upload_data('sales_data.csv')"
   ]
  },
  {
   "cell_type": "code",
   "execution_count": 4,
   "metadata": {},
   "outputs": [],
   "source": [
    "report = {}\n",
    "\n",
    "template = {\n",
    "    \"01-count\": 0,\n",
    "    \"02-revenue\": 0,\n",
    "    \"03-cogs\": 0,\n",
    "    \"04-profit\": 0,\n",
    "    }\n",
    "\n",
    "for item in sales:\n",
    "    sales_item = item[-1]\n",
    "    quantity = float(item[-2])\n",
    "    add = True\n",
    "    for x in report:\n",
    "        if sales_item == x:\n",
    "            add = False\n",
    "            break\n",
    "    if add:\n",
    "        report[sales_item] = template\n",
    "    found = False\n",
    "    for record in menu:\n",
    "        name = record[0]\n",
    "        price = float(record[-2])\n",
    "        cost = float(record[-1])\n",
    "        profit = price - cost\n",
    "        if sales_item == name:\n",
    "            report[sales_item][\"01-count\"] += quantity\n",
    "            report[sales_item][\"02-revenue\"] += price * quantity\n",
    "            report[sales_item][\"03-cogs\"] += cost * quantity\n",
    "            report[sales_item][\"04-profit\"] += profit * quantity\n",
    "            found = True\n",
    "    if not found:\n",
    "        print(f\"{sales_item} does not equal anything on the menu! NO MATCH!\")\n",
    "\n",
    "    \n",
    "        \n"
   ]
  },
  {
   "cell_type": "code",
   "execution_count": 5,
   "metadata": {},
   "outputs": [
    {
     "data": {
      "text/plain": [
       "{'spicy miso ramen': {'01-count': 100106.0,\n",
       "  '02-revenue': 1264592.0,\n",
       "  '03-cogs': 590806.0,\n",
       "  '04-profit': 673786.0},\n",
       " 'tori paitan ramen': {'01-count': 100106.0,\n",
       "  '02-revenue': 1264592.0,\n",
       "  '03-cogs': 590806.0,\n",
       "  '04-profit': 673786.0},\n",
       " 'truffle butter ramen': {'01-count': 100106.0,\n",
       "  '02-revenue': 1264592.0,\n",
       "  '03-cogs': 590806.0,\n",
       "  '04-profit': 673786.0},\n",
       " 'tonkotsu ramen': {'01-count': 100106.0,\n",
       "  '02-revenue': 1264592.0,\n",
       "  '03-cogs': 590806.0,\n",
       "  '04-profit': 673786.0},\n",
       " 'vegetarian spicy miso': {'01-count': 100106.0,\n",
       "  '02-revenue': 1264592.0,\n",
       "  '03-cogs': 590806.0,\n",
       "  '04-profit': 673786.0},\n",
       " 'shio ramen': {'01-count': 100106.0,\n",
       "  '02-revenue': 1264592.0,\n",
       "  '03-cogs': 590806.0,\n",
       "  '04-profit': 673786.0},\n",
       " 'miso crab ramen': {'01-count': 100106.0,\n",
       "  '02-revenue': 1264592.0,\n",
       "  '03-cogs': 590806.0,\n",
       "  '04-profit': 673786.0},\n",
       " 'nagomi shoyu': {'01-count': 100106.0,\n",
       "  '02-revenue': 1264592.0,\n",
       "  '03-cogs': 590806.0,\n",
       "  '04-profit': 673786.0},\n",
       " 'soft-shell miso crab ramen': {'01-count': 100106.0,\n",
       "  '02-revenue': 1264592.0,\n",
       "  '03-cogs': 590806.0,\n",
       "  '04-profit': 673786.0},\n",
       " 'burnt garlic tonkotsu ramen': {'01-count': 100106.0,\n",
       "  '02-revenue': 1264592.0,\n",
       "  '03-cogs': 590806.0,\n",
       "  '04-profit': 673786.0},\n",
       " 'vegetarian curry + king trumpet mushroom ramen': {'01-count': 100106.0,\n",
       "  '02-revenue': 1264592.0,\n",
       "  '03-cogs': 590806.0,\n",
       "  '04-profit': 673786.0}}"
      ]
     },
     "execution_count": 5,
     "metadata": {},
     "output_type": "execute_result"
    }
   ],
   "source": [
    "report"
   ]
  },
  {
   "cell_type": "code",
   "execution_count": null,
   "metadata": {},
   "outputs": [],
   "source": []
  }
 ],
 "metadata": {
  "kernelspec": {
   "display_name": "Python 3",
   "language": "python",
   "name": "python3"
  },
  "language_info": {
   "codemirror_mode": {
    "name": "ipython",
    "version": 3
   },
   "file_extension": ".py",
   "mimetype": "text/x-python",
   "name": "python",
   "nbconvert_exporter": "python",
   "pygments_lexer": "ipython3",
   "version": "3.9.0"
  }
 },
 "nbformat": 4,
 "nbformat_minor": 4
}
