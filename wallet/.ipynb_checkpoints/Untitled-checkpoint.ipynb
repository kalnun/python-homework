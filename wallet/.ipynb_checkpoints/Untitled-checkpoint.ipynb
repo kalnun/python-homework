{
 "cells": [
  {
   "cell_type": "code",
   "execution_count": 7,
   "metadata": {},
   "outputs": [
    {
     "name": "stdout",
     "output_type": "stream",
     "text": [
      "error:\n",
      "None\n"
     ]
    }
   ],
   "source": [
    "import json, os\n",
    "import subprocess\n",
    "from dotenv import load_dotenv\n",
    "from constants import *\n",
    "\n",
    "load_dotenv()\n",
    "\n",
    "mnemonic = os.getenv('MNEMONIC', \"history nice alarm flavor canvas share brass scale clerk board shift main place inhale access silent lend tumble wage bunker pencil own next phrase\")\n",
    "\n",
    "def derive_wallets(mnemonic, coin, numderive):\n",
    "    command  = f'./hd-wallet-derive/hd-wallet-derive.php -g --mnemonic={mnemonic} --cols=path,address,privkey,pubkey --coin={coin} --numderive={numderive} --format=json'\n",
    "    p = subprocess.Popen(command, stdout=subprocess.PIPE, shell=True)\n",
    "    output, err = p.communicate()\n",
    "    p_status = p.wait()    \n",
    "    try:\n",
    "        keys = json.loads(output)\n",
    "        return keys\n",
    "    except:\n",
    "        print(f'error:\\t{err}')\n",
    "\n",
    "derive_wallets(mnemonic, ETH, 3)\n"
   ]
  },
  {
   "cell_type": "code",
   "execution_count": null,
   "metadata": {},
   "outputs": [],
   "source": []
  }
 ],
 "metadata": {
  "kernelspec": {
   "display_name": "Python 3",
   "language": "python",
   "name": "python3"
  },
  "language_info": {
   "codemirror_mode": {
    "name": "ipython",
    "version": 3
   },
   "file_extension": ".py",
   "mimetype": "text/x-python",
   "name": "python",
   "nbconvert_exporter": "python",
   "pygments_lexer": "ipython3",
   "version": "3.9.0"
  }
 },
 "nbformat": 4,
 "nbformat_minor": 4
}
